{
 "cells": [
  {
   "cell_type": "code",
   "execution_count": 10,
   "metadata": {},
   "outputs": [
    {
     "name": "stdout",
     "output_type": "stream",
     "text": [
      "The autoreload extension is already loaded. To reload it, use:\n",
      "  %reload_ext autoreload\n"
     ]
    }
   ],
   "source": [
    "%load_ext autoreload\n",
    "%autoreload 2"
   ]
  },
  {
   "cell_type": "code",
   "execution_count": 11,
   "metadata": {},
   "outputs": [],
   "source": [
    "from models import *\n",
    "import json\n",
    "from random import sample\n",
    "import util\n",
    "import matplotlib.pyplot as plt"
   ]
  },
  {
   "cell_type": "code",
   "execution_count": 13,
   "metadata": {},
   "outputs": [],
   "source": [
    "inFile = open(\"meals/bfast.json\",'r')\n",
    "meals_1 = json.load(inFile)\n",
    "inFile = open(\"meals/main_course.json\",'r')\n",
    "meals_2 = json.load(inFile)\n",
    "meals = meals_1 + meals_2\n",
    "bfast_meal_objs = [Meal(meal) for meal in meals_1]\n",
    "main_meal_objs = [Meal(meal) for meal in meals_2]"
   ]
  },
  {
   "cell_type": "code",
   "execution_count": 14,
   "metadata": {},
   "outputs": [],
   "source": [
    "for meal in meals:\n",
    "    if meal[\"id\"] == 643241:\n",
    "        print(Meal(meal))\n",
    "        "
   ]
  },
  {
   "cell_type": "code",
   "execution_count": 15,
   "metadata": {},
   "outputs": [],
   "source": [
    "calories = []\n",
    "for i, bfast in enumerate(meals_1):\n",
    "    bfast_ = bfast[\"nutrition\"][\"nutrients\"]\n",
    "    if bfast_[0][\"name\"] == \"Calories\":\n",
    "        calories.append(bfast_[0][\"amount\"])\n",
    "    else:\n",
    "        print(i)\n",
    "\n",
    "calories2 = []\n",
    "for i, bfast in enumerate(meals_2):\n",
    "    bfast_ = bfast[\"nutrition\"][\"nutrients\"]\n",
    "    if bfast_[0][\"name\"] == \"Calories\":\n",
    "        calories2.append(bfast_[0][\"amount\"])\n",
    "    else:\n",
    "        print(i)"
   ]
  },
  {
   "cell_type": "code",
   "execution_count": 16,
   "metadata": {},
   "outputs": [
    {
     "data": {
      "text/plain": [
       "<matplotlib.legend.Legend at 0x156652310>"
      ]
     },
     "execution_count": 16,
     "metadata": {},
     "output_type": "execute_result"
    },
    {
     "data": {
      "image/png": "[encoded data removed]",
      "text/plain": [
       "<Figure size 640x480 with 1 Axes>"
      ]
     },
     "metadata": {},
     "output_type": "display_data"
    }
   ],
   "source": [
    "plt.hist(calories2, label = \"main\")\n",
    "plt.hist(calories, label = \"bfast\")\n",
    "plt.legend()"
   ]
  },
  {
   "cell_type": "markdown",
   "metadata": {},
   "source": [
    "### Aggregate Ingredients"
   ]
  },
  {
   "cell_type": "code",
   "execution_count": 17,
   "metadata": {},
   "outputs": [],
   "source": [
    "aggregate = {}\n",
    "names = set()\n",
    "for meal in meals:\n",
    "    for ingredient in meal[\"nutrition\"][\"ingredients\"]:\n",
    "        if ingredient[\"id\"] not in aggregate:\n",
    "            aggregate[ingredient[\"id\"]] = 0\n",
    "        aggregate[ingredient[\"id\"]] += ingredient[\"amount\"]\n",
    "        names.add(ingredient[\"name\"])"
   ]
  },
  {
   "cell_type": "code",
   "execution_count": 20,
   "metadata": {},
   "outputs": [],
   "source": [
    "outfile = open(\"ingredients_2.json\", 'w')\n",
    "outfile.write(json.dumps(sorted(names)))\n",
    "outfile.close()"
   ]
  },
  {
   "cell_type": "code",
   "execution_count": null,
   "metadata": {},
   "outputs": [
    {
     "data": {
      "text/plain": [
       "476"
      ]
     },
     "execution_count": 6,
     "metadata": {},
     "output_type": "execute_result"
    }
   ],
   "source": [
    "len(aggregate)"
   ]
  },
  {
   "cell_type": "code",
   "execution_count": null,
   "metadata": {},
   "outputs": [],
   "source": [
    "ingredients = {}\n",
    "for id_ in aggregate:\n",
    "    ingredients[id_] = aggregate[id_]"
   ]
  },
  {
   "cell_type": "code",
   "execution_count": null,
   "metadata": {},
   "outputs": [
    {
     "data": {
      "text/plain": [
       "{1009040: 0.25,\n",
       " 10018617: 2.0,\n",
       " 16223: 1.0,\n",
       " 9316: 14.969999999999999,\n",
       " 1119: 4.0,\n",
       " 12195: 2.0,\n",
       " 93607: 8.06,\n",
       " 9040: 8.25,\n",
       " 12006: 4.25,\n",
       " 11233: 7.09,\n",
       " 9176: 4.96,\n",
       " 98932: 0.5,\n",
       " 9266: 150.63,\n",
       " 2050: 1.71,\n",
       " 11485: 2.5,\n",
       " 1159: 5.0,\n",
       " 1226: 1.0,\n",
       " 1085: 5.31,\n",
       " 10211821: 117.97999999999999,\n",
       " 11090: 6.91,\n",
       " 11156: 4.0,\n",
       " 1011077: 2.38,\n",
       " 1123: 38.989999999999995,\n",
       " 10011821: 0.33,\n",
       " 1102047: 29.0,\n",
       " 1001009: 2.88,\n",
       " 11529: 20.75,\n",
       " 99075: 1.0,\n",
       " 2010: 4.58,\n",
       " 10014412: 4.5,\n",
       " 16098: 3.25,\n",
       " 20081: 2.83,\n",
       " 19296: 22.02,\n",
       " 1090: 0.5,\n",
       " 2047: 20.13,\n",
       " 14412: 169.71999999999997,\n",
       " 18375: 0.5,\n",
       " 10016223: 0.67,\n",
       " 10819297: 0.25,\n",
       " 10018029: 4.0,\n",
       " 10211215: 15.12,\n",
       " 1001: 5.17,\n",
       " 1012042: 1.5,\n",
       " 11260: 40.16,\n",
       " 11677: 7.75,\n",
       " 10011959: 0.5,\n",
       " 11457: 2.5,\n",
       " 1125: 3.0,\n",
       " 2017: 0.56,\n",
       " 9150: 1.0,\n",
       " 18075: 8.0,\n",
       " 15077: 4.0,\n",
       " 6971: 1.7200000000000002,\n",
       " 8402: 2.25,\n",
       " 19165: 3.0,\n",
       " 19912: 2.21,\n",
       " 16097: 1.0,\n",
       " 10012023: 1.25,\n",
       " 98846: 1.0,\n",
       " 98863: 1.0,\n",
       " 98874: 0.5,\n",
       " 98994: 1.5,\n",
       " 12014: 1.0,\n",
       " 11143: 2.33,\n",
       " 18079: 1.3,\n",
       " 18439: 2.0,\n",
       " 93802: 0.33,\n",
       " 6168: 4.42,\n",
       " 10115136: 0.33,\n",
       " 4025: 0.34,\n",
       " 11282: 10.42,\n",
       " 11297: 4.22,\n",
       " 1032034: 0.17,\n",
       " 1145: 4.0,\n",
       " 9236: 0.75,\n",
       " 43274: 2.0,\n",
       " 1001256: 3.63,\n",
       " 2053: 0.5,\n",
       " 4053: 63.92,\n",
       " 11215: 22.829999999999995,\n",
       " 1032009: 2.86,\n",
       " 10011457: 40.970000000000006,\n",
       " 8121: 1.0,\n",
       " 1001119: 6.0,\n",
       " 1077: 3.59,\n",
       " 9003: 2.5,\n",
       " 9078: 2.52,\n",
       " 12155: 1.69,\n",
       " 8029: 0.26,\n",
       " 9021: 0.75,\n",
       " 8120: 2.46,\n",
       " 12023: 1.0,\n",
       " 10020077: 0.5,\n",
       " 20078: 0.5,\n",
       " 15260: 0.5,\n",
       " 2031: 1.06,\n",
       " 2003: 1.0,\n",
       " 11463: 37.5,\n",
       " 1014: 0.25,\n",
       " 1040: 0.5,\n",
       " 1011256: 1.67,\n",
       " 10114412: 1.0,\n",
       " 42184: 0.5,\n",
       " 11265: 1.5,\n",
       " 1027063: 3.0,\n",
       " 11147: 1.0,\n",
       " 11291: 15.680000000000001,\n",
       " 11507: 3.75,\n",
       " 2009: 4.33,\n",
       " 1124: 4.25,\n",
       " 1009: 34.0,\n",
       " 8212: 0.5,\n",
       " 9431: 0.56,\n",
       " 2064: 1.06,\n",
       " 1118: 2.0,\n",
       " 11124: 10.17,\n",
       " 5062: 79.75,\n",
       " 6172: 4.21,\n",
       " 11216: 26.06,\n",
       " 2032: 0.26,\n",
       " 20444: 1.38,\n",
       " 4669: 4.8,\n",
       " 9019: 0.35,\n",
       " 9302: 0.30000000000000004,\n",
       " 12151: 0.21000000000000002,\n",
       " 11011: 14.75,\n",
       " 10123: 4.0,\n",
       " 2044: 3.26,\n",
       " 1002030: 17.07,\n",
       " 10111205: 0.13,\n",
       " 1034053: 5.72,\n",
       " 1082047: 2.73,\n",
       " 9152: 12.140000000000002,\n",
       " 1033: 8.8,\n",
       " 12147: 0.2,\n",
       " 10211529: 2.08,\n",
       " 10118029: 1.0,\n",
       " 1012069: 0.13,\n",
       " 1032027: 4.17,\n",
       " 93740: 0.08,\n",
       " 18369: 1.23,\n",
       " 18372: 1.06,\n",
       " 12104: 0.08,\n",
       " 4047: 1.17,\n",
       " 12220: 0.30000000000000004,\n",
       " 9156: 1.1400000000000001,\n",
       " 16213: 150.11,\n",
       " 10112155: 1.08,\n",
       " 10099239: 0.13,\n",
       " 1256: 0.38,\n",
       " 20080: 0.38,\n",
       " 1002050: 0.5,\n",
       " 19335: 3.75,\n",
       " 98946: 0.17,\n",
       " 1053: 2.0,\n",
       " 12119: 1.0,\n",
       " 9042: 3.38,\n",
       " 99239: 2.0,\n",
       " 21052: 153.25,\n",
       " 18334: 3.5,\n",
       " 10020080: 0.42000000000000004,\n",
       " 12061: 25.560000000000002,\n",
       " 11246: 0.83,\n",
       " 10016213: 3.0,\n",
       " 16112: 0.5,\n",
       " 10018079: 0.5,\n",
       " 1022027: 0.38,\n",
       " 11955: 2.12,\n",
       " 2014: 1.0,\n",
       " 2043: 0.8,\n",
       " 10511819: 1.5,\n",
       " 11959: 2.25,\n",
       " 19334: 3.5999999999999996,\n",
       " 11424: 0.63,\n",
       " 2025: 0.53,\n",
       " 99076: 0.25,\n",
       " 11266: 2.17,\n",
       " 1020: 0.31,\n",
       " 1032: 0.12,\n",
       " 1012028: 0.33999999999999997,\n",
       " 10211297: 0.06,\n",
       " 1012049: 2.58,\n",
       " 10151: 2.0,\n",
       " 19911: 2.5,\n",
       " 9279: 0.5,\n",
       " 20011: 0.25,\n",
       " 10012220: 0.5,\n",
       " 4582: 1.5,\n",
       " 1001116: 3.28,\n",
       " 1052050: 0.63,\n",
       " 11821: 4.95,\n",
       " 1041009: 1.38,\n",
       " 11270: 1.0,\n",
       " 16124: 2.83,\n",
       " 14209: 0.9,\n",
       " 9050: 0.38,\n",
       " 14292: 0.5,\n",
       " 9070: 0.13,\n",
       " 20132: 0.31,\n",
       " 35137: 0.26,\n",
       " 2021: 1.02,\n",
       " 10719335: 1.06,\n",
       " 1009150: 0.75,\n",
       " 1009152: 1.0,\n",
       " 1036: 0.63,\n",
       " 9054: 1.0,\n",
       " 10116098: 1.0,\n",
       " 9265: 2.0,\n",
       " 18064: 3.0,\n",
       " 1002035: 0.06,\n",
       " 1012010: 0.37,\n",
       " 10016049: 0.63,\n",
       " 93604: 1.67,\n",
       " 2041: 3.29,\n",
       " 1012047: 0.67,\n",
       " 1012046: 0.17,\n",
       " 9037: 5.04,\n",
       " 10111143: 1.05,\n",
       " 5064: 1.92,\n",
       " 10311297: 1.4700000000000002,\n",
       " 10011693: 142.92000000000002,\n",
       " 10016069: 0.25,\n",
       " 11564: 0.13,\n",
       " 6615: 12.25,\n",
       " 10511282: 0.8300000000000001,\n",
       " 6008: 2.42,\n",
       " 6147: 4.58,\n",
       " 10211352: 1.67,\n",
       " 1042027: 1.08,\n",
       " 10023618: 0.62,\n",
       " 20041: 0.66,\n",
       " 2007: 0.17,\n",
       " 16032: 0.33,\n",
       " 1002023: 0.17,\n",
       " 2042: 0.5,\n",
       " 11209: 1.17,\n",
       " 11052: 0.5,\n",
       " 1012038: 0.33,\n",
       " 93627: 0.08,\n",
       " 11165: 6.04,\n",
       " 1002014: 1.5100000000000002,\n",
       " 11252: 2.25,\n",
       " 20137: 0.5800000000000001,\n",
       " 6164: 1.0,\n",
       " 1011026: 0.8300000000000001,\n",
       " 16018: 16.75,\n",
       " 2004: 2.75,\n",
       " 2063: 1.59,\n",
       " 10316049: 0.66,\n",
       " 10112061: 1.04,\n",
       " 10011090: 2.92,\n",
       " 1032046: 3.21,\n",
       " 16056: 2.92,\n",
       " 9273: 0.33,\n",
       " 10116124: 0.33,\n",
       " 99186: 5.0,\n",
       " 9159: 4.08,\n",
       " 10011282: 4.42,\n",
       " 10011819: 14.5,\n",
       " 90560: 8.0,\n",
       " 10010225: 0.5,\n",
       " 98840: 0.5,\n",
       " 20035: 2.33,\n",
       " 10011268: 0.17,\n",
       " 11531: 122.8,\n",
       " 10316069: 63.38,\n",
       " 6599: 5.0,\n",
       " 1055062: 1.2599999999999998,\n",
       " 10111168: 53.75,\n",
       " 15076: 9.5,\n",
       " 1012044: 0.5,\n",
       " 1009159: 0.5,\n",
       " 9160: 3.25,\n",
       " 1022053: 1.25,\n",
       " 16058: 101.08,\n",
       " 16070: 0.42000000000000004,\n",
       " 20028: 0.33,\n",
       " 1012014: 1.6300000000000001,\n",
       " 2028: 1.05,\n",
       " 11887: 2.37,\n",
       " 9085: 2.0,\n",
       " 10020028: 0.75,\n",
       " 9206: 0.8300000000000001,\n",
       " 10012142: 0.13,\n",
       " 11819: 2.76,\n",
       " 11333: 4.390000000000001,\n",
       " 10099295: 1.0,\n",
       " 15270: 4.0,\n",
       " 11951: 1.0,\n",
       " 11352: 154.95,\n",
       " 99231: 0.5,\n",
       " 5311: 2.63,\n",
       " 10211216: 1.31,\n",
       " 23617: 0.25,\n",
       " 13149: 0.38,\n",
       " 10120499: 0.31,\n",
       " 11168: 4.38,\n",
       " 10016073: 1.88,\n",
       " 10016063: 1.88,\n",
       " 1022020: 0.88,\n",
       " 1052047: 0.13,\n",
       " 6076: 0.25,\n",
       " 2029: 0.88,\n",
       " 11583: 2.0,\n",
       " 2069: 8.25,\n",
       " 16033: 113.0,\n",
       " 12585: 15.0,\n",
       " 1026168: 2.0,\n",
       " 20040: 61.0,\n",
       " 10311529: 81.50999999999999,\n",
       " 10220445: 3.0,\n",
       " 1019: 5.21,\n",
       " 10115261: 0.25,\n",
       " 2027: 1.44,\n",
       " 14106: 0.44,\n",
       " 5114: 2.25,\n",
       " 16034: 1.88,\n",
       " 16044: 1.88,\n",
       " 23557: 1.0,\n",
       " 11298: 0.5,\n",
       " 10115076: 8.58,\n",
       " 1059195: 25.0,\n",
       " 15015: 258.0,\n",
       " 10511297: 4.0600000000000005,\n",
       " 10411529: 120.0,\n",
       " 7916: 50.0,\n",
       " 2048: 3.08,\n",
       " 4517: 1.17,\n",
       " 11213: 1.5,\n",
       " 10311215: 0.56,\n",
       " 10010123: 0.5,\n",
       " 9094: 0.25,\n",
       " 43212: 0.17,\n",
       " 11353: 1.58,\n",
       " 6080: 1.67,\n",
       " 1049: 0.33,\n",
       " 1056: 2.0,\n",
       " 11120420: 5.5,\n",
       " 6970: 0.31,\n",
       " 9433: 0.25,\n",
       " 11001: 0.25,\n",
       " 1006615: 0.5,\n",
       " 11112: 0.65,\n",
       " 11135: 0.38,\n",
       " 11203: 1.0,\n",
       " 12698: 1.0,\n",
       " 6194: 1.0,\n",
       " 98839: 0.5,\n",
       " 16014: 0.17,\n",
       " 99233: 0.5,\n",
       " 1001025: 1.06,\n",
       " 1022009: 0.3,\n",
       " 10019334: 0.4,\n",
       " 11979: 1.45,\n",
       " 10013149: 1.0,\n",
       " 1002044: 2.0,\n",
       " 11206: 2.25,\n",
       " 11941: 0.5,\n",
       " 10211205: 0.25,\n",
       " 1116: 62.5,\n",
       " 1002068: 0.06,\n",
       " 16080: 0.38,\n",
       " 2024: 0.25,\n",
       " 4584: 0.75,\n",
       " 1022042: 0.5,\n",
       " 1022068: 3.5,\n",
       " 1009037: 1.0,\n",
       " 18363: 10.0,\n",
       " 15036: 1.0,\n",
       " 23657: 0.38,\n",
       " 1004: 0.06,\n",
       " 10011885: 3.33,\n",
       " 43112: 2.5,\n",
       " 4058: 0.75,\n",
       " 93830: 0.25,\n",
       " 93749: 0.13,\n",
       " 6179: 0.25,\n",
       " 20027: 0.38,\n",
       " 11177: 2.5,\n",
       " 11980: 1.0,\n",
       " 2012: 0.06,\n",
       " 10116069: 0.42000000000000004,\n",
       " 10015243: 150.0,\n",
       " 10111251: 4.58,\n",
       " 43016: 1.0,\n",
       " 11693: 8.0,\n",
       " 2026: 0.5,\n",
       " 11492: 0.5,\n",
       " 10120420: 0.6,\n",
       " 20420: 3.0,\n",
       " 10010062: 2.3,\n",
       " 11109: 0.08,\n",
       " 9218: 1.0,\n",
       " 93640: 0.17,\n",
       " 99005: 0.25,\n",
       " 15010: 0.38,\n",
       " 23653: 0.5,\n",
       " 99288: 0.08,\n",
       " 11960: 1.71,\n",
       " 11264: 0.14,\n",
       " 1016008: 0.29,\n",
       " 10015072: 1.0,\n",
       " 10111080: 3.0,\n",
       " 11957: 0.25,\n",
       " 11591: 0.25,\n",
       " 11549: 5.5,\n",
       " 10023572: 0.13,\n",
       " 5662: 0.72,\n",
       " 1230: 0.5,\n",
       " 10862: 1.0,\n",
       " 12118: 0.5,\n",
       " 2015: 1.5,\n",
       " 15050: 0.25,\n",
       " 10016033: 0.13,\n",
       " 43015: 1.0,\n",
       " 10012061: 0.5,\n",
       " 6999: 1.75,\n",
       " 10011531: 3.63,\n",
       " 12098: 0.06,\n",
       " 16037: 0.13,\n",
       " 12011111: 0.13,\n",
       " 10011011: 0.25,\n",
       " 23232: 0.5,\n",
       " 11935: 0.67,\n",
       " 10020420: 0.25,\n",
       " 11477: 1.38,\n",
       " 14096: 0.31,\n",
       " 10111962: 0.25,\n",
       " 16057: 1.0,\n",
       " 20012: 0.5,\n",
       " 10211111: 0.08,\n",
       " 10011233: 0.67,\n",
       " 10011205: 0.17,\n",
       " 18413: 0.33,\n",
       " 11429: 0.17,\n",
       " 11114: 0.17,\n",
       " 1002042: 0.17,\n",
       " 11250: 1.0,\n",
       " 5027: 0.5,\n",
       " 11547: 0.5,\n",
       " 93663: 0.75,\n",
       " 5006: 2.5,\n",
       " 11304: 0.25,\n",
       " 15121: 1.63,\n",
       " 15143: 0.33,\n",
       " 16163: 3.5,\n",
       " 12135: 1.13,\n",
       " 2036: 0.75,\n",
       " 11482: 0.5,\n",
       " 10020444: 0.17,\n",
       " 98990: 0.33,\n",
       " 99025: 0.08,\n",
       " 43589: 1.0,\n",
       " 2049: 0.5,\n",
       " 11007: 0.5,\n",
       " 1001026: 1.5,\n",
       " 99024: 0.33,\n",
       " 93767: 1.0,\n",
       " 10211362: 0.75,\n",
       " 11020420: 83.33,\n",
       " 10015121: 133.33,\n",
       " 14134: 0.13,\n",
       " 2018: 0.04,\n",
       " 10011549: 4.33,\n",
       " 11220420: 0.17,\n",
       " 16147: 1.0,\n",
       " 9299: 1.0,\n",
       " 12120: 0.25,\n",
       " 1022030: 6.0,\n",
       " 11119: 0.25,\n",
       " 13346: 0.63,\n",
       " 14006: 0.06,\n",
       " 93611: 0.25,\n",
       " 10072: 200.0,\n",
       " 2001: 0.5,\n",
       " 2006: 0.5}"
      ]
     },
     "execution_count": 8,
     "metadata": {},
     "output_type": "execute_result"
    }
   ],
   "source": [
    "ingredients"
   ]
  },
  {
   "cell_type": "markdown",
   "metadata": {},
   "source": [
    "Meal Nutrition Stats"
   ]
  },
  {
   "cell_type": "code",
   "execution_count": null,
   "metadata": {},
   "outputs": [
    {
     "data": {
      "text/plain": [
       "[{'name': 'Calories',\n",
       "  'amount': 457.05,\n",
       "  'unit': 'kcal',\n",
       "  'percentOfDailyNeeds': 22.85},\n",
       " {'name': 'Fat', 'amount': 9.94, 'unit': 'g', 'percentOfDailyNeeds': 15.29},\n",
       " {'name': 'Saturated Fat',\n",
       "  'amount': 2.7,\n",
       "  'unit': 'g',\n",
       "  'percentOfDailyNeeds': 16.88},\n",
       " {'name': 'Carbohydrates',\n",
       "  'amount': 73.06,\n",
       "  'unit': 'g',\n",
       "  'percentOfDailyNeeds': 24.35},\n",
       " {'name': 'Net Carbohydrates',\n",
       "  'amount': 68.54,\n",
       "  'unit': 'g',\n",
       "  'percentOfDailyNeeds': 24.92},\n",
       " {'name': 'Sugar', 'amount': 52.28, 'unit': 'g', 'percentOfDailyNeeds': 58.09},\n",
       " {'name': 'Cholesterol',\n",
       "  'amount': 11.35,\n",
       "  'unit': 'mg',\n",
       "  'percentOfDailyNeeds': 3.78},\n",
       " {'name': 'Sodium',\n",
       "  'amount': 400.9,\n",
       "  'unit': 'mg',\n",
       "  'percentOfDailyNeeds': 17.43},\n",
       " {'name': 'Protein',\n",
       "  'amount': 20.62,\n",
       "  'unit': 'g',\n",
       "  'percentOfDailyNeeds': 41.25},\n",
       " {'name': 'Vitamin C',\n",
       "  'amount': 66.04,\n",
       "  'unit': 'mg',\n",
       "  'percentOfDailyNeeds': 80.05},\n",
       " {'name': 'Calcium',\n",
       "  'amount': 748.7,\n",
       "  'unit': 'mg',\n",
       "  'percentOfDailyNeeds': 74.87},\n",
       " {'name': 'Vitamin B12',\n",
       "  'amount': 3.75,\n",
       "  'unit': 'µg',\n",
       "  'percentOfDailyNeeds': 62.53},\n",
       " {'name': 'Vitamin B2',\n",
       "  'amount': 1.03,\n",
       "  'unit': 'mg',\n",
       "  'percentOfDailyNeeds': 60.64},\n",
       " {'name': 'Vitamin B3',\n",
       "  'amount': 9.42,\n",
       "  'unit': 'mg',\n",
       "  'percentOfDailyNeeds': 47.1},\n",
       " {'name': 'Vitamin B6',\n",
       "  'amount': 0.91,\n",
       "  'unit': 'mg',\n",
       "  'percentOfDailyNeeds': 45.62},\n",
       " {'name': 'Vitamin E',\n",
       "  'amount': 6.26,\n",
       "  'unit': 'mg',\n",
       "  'percentOfDailyNeeds': 41.72},\n",
       " {'name': 'Phosphorus',\n",
       "  'amount': 376.51,\n",
       "  'unit': 'mg',\n",
       "  'percentOfDailyNeeds': 37.65},\n",
       " {'name': 'Folate',\n",
       "  'amount': 138.22,\n",
       "  'unit': 'µg',\n",
       "  'percentOfDailyNeeds': 34.56},\n",
       " {'name': 'Potassium',\n",
       "  'amount': 1176.83,\n",
       "  'unit': 'mg',\n",
       "  'percentOfDailyNeeds': 33.62},\n",
       " {'name': 'Selenium',\n",
       "  'amount': 17.4,\n",
       "  'unit': 'µg',\n",
       "  'percentOfDailyNeeds': 24.86},\n",
       " {'name': 'Manganese',\n",
       "  'amount': 0.44,\n",
       "  'unit': 'mg',\n",
       "  'percentOfDailyNeeds': 21.94},\n",
       " {'name': 'Vitamin B1',\n",
       "  'amount': 0.32,\n",
       "  'unit': 'mg',\n",
       "  'percentOfDailyNeeds': 21.47},\n",
       " {'name': 'Vitamin A',\n",
       "  'amount': 1069.73,\n",
       "  'unit': 'IU',\n",
       "  'percentOfDailyNeeds': 21.39},\n",
       " {'name': 'Copper', 'amount': 0.4, 'unit': 'mg', 'percentOfDailyNeeds': 20.21},\n",
       " {'name': 'Zinc', 'amount': 3.02, 'unit': 'mg', 'percentOfDailyNeeds': 20.16},\n",
       " {'name': 'Vitamin D',\n",
       "  'amount': 2.83,\n",
       "  'unit': 'µg',\n",
       "  'percentOfDailyNeeds': 18.88},\n",
       " {'name': 'Magnesium',\n",
       "  'amount': 72.67,\n",
       "  'unit': 'mg',\n",
       "  'percentOfDailyNeeds': 18.17},\n",
       " {'name': 'Fiber', 'amount': 4.53, 'unit': 'g', 'percentOfDailyNeeds': 18.11},\n",
       " {'name': 'Vitamin B5',\n",
       "  'amount': 1.53,\n",
       "  'unit': 'mg',\n",
       "  'percentOfDailyNeeds': 15.31},\n",
       " {'name': 'Iron', 'amount': 2.58, 'unit': 'mg', 'percentOfDailyNeeds': 14.35},\n",
       " {'name': 'Vitamin K',\n",
       "  'amount': 2.09,\n",
       "  'unit': 'µg',\n",
       "  'percentOfDailyNeeds': 1.99}]"
      ]
     },
     "execution_count": 9,
     "metadata": {},
     "output_type": "execute_result"
    }
   ],
   "source": [
    "meals[0][\"nutrition\"][\"nutrients\"]"
   ]
  },
  {
   "cell_type": "code",
   "execution_count": null,
   "metadata": {},
   "outputs": [],
   "source": [
    "def parse_nutrition(nutrients):\n",
    "    temp = {}\n",
    "    for i in range(len(nutrients)):\n",
    "        temp[nutrients[i][\"name\"].lower()] = nutrients[i][\"percentOfDailyNeeds\"]\n",
    "    return [temp.get(util.NUTRIENTS_LIST[i], 0) for i in range(len(util.NUTRIENTS_LIST))]\n",
    "start = np.array([0] * len(util.NUTRIENTS_LIST), dtype=float)\n",
    "for meal in meals:\n",
    "    start += np.array(parse_nutrition(meal[\"nutrition\"][\"nutrients\"]))\n",
    "start /= len(meals)"
   ]
  },
  {
   "cell_type": "code",
   "execution_count": null,
   "metadata": {},
   "outputs": [
    {
     "data": {
      "text/plain": [
       "array([25.2162    , 30.1312    , 33.916     , 18.49613333, 16.5736    ,\n",
       "       16.2698    , 34.57886667, 32.39746667, 59.36673333])"
      ]
     },
     "execution_count": 11,
     "metadata": {},
     "output_type": "execute_result"
    }
   ],
   "source": [
    "start"
   ]
  },
  {
   "cell_type": "markdown",
   "metadata": {},
   "source": [
    "User setup"
   ]
  },
  {
   "cell_type": "code",
   "execution_count": null,
   "metadata": {},
   "outputs": [],
   "source": [
    "preferences = {\"indian\": 1.0, \"japanese\": 0.7, \"thai\": 0.5, \"mediterranean\": 0.9}\n",
    "restrictions = [\"vegetarian\"]\n",
    "\n",
    "mealTypes = [True, True, True]"
   ]
  },
  {
   "cell_type": "code",
   "execution_count": null,
   "metadata": {},
   "outputs": [],
   "source": [
    "user = User([], [0, 0, 0], [], {}, mealTypes, [], {})\n",
    "if \"vegan\" in restrictions:\n",
    "    meals_ = [meal for meal in meals if meal[\"vegan\"]]\n",
    "elif \"vegetarian\" in restrictions:\n",
    "    meals_ = [meal for meal in meals if meal[\"vegetarian\"]]\n",
    "if \"glutenFree\" in restrictions:\n",
    "    meals_ = [meal for meal in meals_ if meal[\"glutenFree\"]]\n",
    "if \"dairyFree\" in restrictions:\n",
    "    meals_ = [meal for meal in meals_ if meal[\"dairyFree\"]]\n",
    "meals_ = [meal for meal in meals_ if \"breakfast\" in meal[\"dishTypes\"] and mealTypes[0] or \"lunch\" in meal[\"dishTypes\"] and mealTypes[1] or \"dinner\" in meal[\"dishTypes\"] and mealTypes[2]]\n",
    "mealplan = MealPlan(sample(meals_, 21))"
   ]
  },
  {
   "cell_type": "code",
   "execution_count": null,
   "metadata": {},
   "outputs": [
    {
     "name": "stdout",
     "output_type": "stream",
     "text": [
      "{1256: 0.38, 1124: 3.25, 20080: 0.25, 18372: 0.56, 1002050: 0.5, 19335: 1.75, 2047: 4.97, 98946: 0.17, 9316: 7.8, 1053: 1.0, 11090: 1.0, 11156: 2.0, 1011077: 2.38, 1123: 8.0, 10011821: 0.33, 1102047: 5.0, 1001009: 0.5, 11529: 3.33, 10011531: 3.63, 10511297: 0.75, 11215: 2.5, 4053: 4.72, 11120420: 3.5, 11821: 0.75, 1019: 0.17, 12147: 0.08, 10011282: 0.5800000000000001, 10011457: 1.67, 14412: 62.0, 99024: 0.33, 11165: 0.25, 16070: 0.25, 9176: 0.38, 10211821: 2.0, 1002068: 0.06, 8121: 1.0, 1001119: 6.0, 1077: 0.33, 9003: 1.0, 9040: 2.25, 9078: 2.0, 12155: 1.06, 9037: 0.13, 10311529: 1.0, 9433: 0.25, 11233: 2.5, 20035: 0.5, 11001: 0.25, 1006615: 0.5, 10018029: 2.0, 10211215: 0.5, 1001: 0.5, 1159: 1.0, 1012042: 0.5, 11260: 20.0, 11677: 2.0, 1011256: 0.17, 2050: 0.63, 10020080: 0.17, 9042: 0.13, 9050: 0.38, 14292: 0.5, 9302: 0.13, 2009: 0.5, 8120: 0.5, 1009: 4.0, 11291: 2.0, 10116098: 1.0, 9265: 1.0, 10012023: 1.0, 98846: 1.0, 12006: 3.25, 98863: 1.0, 98874: 0.5, 98994: 1.5, 12014: 1.0, 20040: 60.0, 2043: 0.5, 11282: 0.92, 10011693: 104.67, 11547: 0.5, 10211216: 0.25, 11819: 0.13, 2010: 0.75, 93663: 0.25, 2028: 0.25, 11507: 0.25, 9152: 0.67, 11135: 0.13, 16058: 100.0, 16213: 150.0, 4047: 1.0, 2014: 0.5, 10511819: 1.0, 11959: 1.0, 20012: 0.5, 11206: 2.0, 10311297: 1.0, 19296: 1.0, 93611: 0.25, 12135: 1.0, 1001256: 2.0, 18075: 4.0, 43589: 1.0, 2049: 0.5, 1032046: 1.0, 9236: 0.25, 8402: 1.0, 1085: 0.5, 43274: 2.0, 19912: 1.04, 10116069: 0.17, 11124: 2.0, 2042: 0.17, 2003: 0.33, 1012049: 0.33, 2027: 0.17, 1002030: 0.08, 9070: 0.13, 20132: 0.31, 35137: 0.13, 18369: 0.25, 2025: 0.13, 2021: 0.25, 9019: 0.09, 1001116: 0.03}\n"
     ]
    }
   ],
   "source": [
    "aggregate = {}\n",
    "for meal in mealplan.meals:\n",
    "    for ingredient in meal.ingredients:\n",
    "        aggregate[ingredient[0]] = aggregate.get(ingredient[0], 0) + ingredient[1]\n",
    "print(aggregate)"
   ]
  },
  {
   "cell_type": "code",
   "execution_count": null,
   "metadata": {},
   "outputs": [],
   "source": [
    "ingredients2 = aggregate.copy()\n",
    "# ingredients2[11233] -= 3"
   ]
  },
  {
   "cell_type": "code",
   "execution_count": null,
   "metadata": {},
   "outputs": [
    {
     "data": {
      "text/plain": [
       "0.0"
      ]
     },
     "execution_count": 16,
     "metadata": {},
     "output_type": "execute_result"
    }
   ],
   "source": [
    "mealplan.ingredient_cost(ingredients2)"
   ]
  },
  {
   "cell_type": "code",
   "execution_count": null,
   "metadata": {},
   "outputs": [
    {
     "data": {
      "text/plain": [
       "533.6142130894857"
      ]
     },
     "execution_count": 17,
     "metadata": {},
     "output_type": "execute_result"
    }
   ],
   "source": [
    "User.calculate_goal_dv()\n",
    "mealplan.nutrition_cost(User.dv)"
   ]
  },
  {
   "cell_type": "code",
   "execution_count": null,
   "metadata": {},
   "outputs": [
    {
     "name": "stdout",
     "output_type": "stream",
     "text": [
      "{1009040: 0.25, 10018617: 2.0, 16223: 1.0, 9316: 14.969999999999999, 1119: 4.0, 12195: 2.0, 93607: 8.06, 9040: 8.25, 12006: 4.25, 11233: 7.09, 9176: 4.96, 98932: 0.5, 9266: 150.63, 2050: 1.71, 11485: 2.5, 1159: 5.0, 1226: 1.0, 1085: 5.31, 10211821: 117.97999999999999, 11090: 6.91, 11156: 4.0, 1011077: 2.38, 1123: 38.989999999999995, 10011821: 0.33, 1102047: 29.0, 1001009: 2.88, 11529: 20.75, 99075: 1.0, 2010: 4.58, 10014412: 4.5, 16098: 3.25, 20081: 2.83, 19296: 22.02, 1090: 0.5, 2047: 20.13, 14412: 169.71999999999997, 18375: 0.5, 10016223: 0.67, 10819297: 0.25, 10018029: 4.0, 10211215: 15.12, 1001: 5.17, 1012042: 1.5, 11260: 40.16, 11677: 7.75, 10011959: 0.5, 11457: 2.5, 1125: 3.0, 2017: 0.56, 9150: 1.0, 18075: 8.0, 15077: 4.0, 6971: 1.7200000000000002, 8402: 2.25, 19165: 3.0, 19912: 2.21, 16097: 1.0, 10012023: 1.25, 98846: 1.0, 98863: 1.0, 98874: 0.5, 98994: 1.5, 12014: 1.0, 11143: 2.33, 18079: 1.3, 18439: 2.0, 93802: 0.33, 6168: 4.42, 10115136: 0.33, 4025: 0.34, 11282: 10.42, 11297: 4.22, 1032034: 0.17, 1145: 4.0, 9236: 0.75, 43274: 2.0, 1001256: 3.63, 2053: 0.5, 4053: 63.92, 11215: 22.829999999999995, 1032009: 2.86, 10011457: 40.970000000000006, 8121: 1.0, 1001119: 6.0, 1077: 3.59, 9003: 2.5, 9078: 2.52, 12155: 1.69, 8029: 0.26, 9021: 0.75, 8120: 2.46, 12023: 1.0, 10020077: 0.5, 20078: 0.5, 15260: 0.5, 2031: 1.06, 2003: 1.0, 11463: 37.5, 1014: 0.25, 1040: 0.5, 1011256: 1.67, 10114412: 1.0, 42184: 0.5, 11265: 1.5, 1027063: 3.0, 11147: 1.0, 11291: 15.680000000000001, 11507: 3.75, 2009: 4.33, 1124: 4.25, 1009: 34.0, 8212: 0.5, 9431: 0.56, 2064: 1.06, 1118: 2.0, 11124: 10.17, 5062: 79.75, 6172: 4.21, 11216: 26.06, 2032: 0.26, 20444: 1.38, 4669: 4.8, 9019: 0.35, 9302: 0.30000000000000004, 12151: 0.21000000000000002, 11011: 14.75, 10123: 4.0, 2044: 3.26, 1002030: 17.07, 10111205: 0.13, 1034053: 5.72, 1082047: 2.73, 9152: 12.140000000000002, 1033: 8.8, 12147: 0.2, 10211529: 2.08, 10118029: 1.0, 1012069: 0.13, 1032027: 4.17, 93740: 0.08, 18369: 1.23, 18372: 1.06, 12104: 0.08, 4047: 1.17, 12220: 0.30000000000000004, 9156: 1.1400000000000001, 16213: 150.11, 10112155: 1.08, 10099239: 0.13, 1256: 0.38, 20080: 0.38, 1002050: 0.5, 19335: 3.75, 98946: 0.17, 1053: 2.0, 12119: 1.0, 9042: 3.38, 99239: 2.0, 21052: 153.25, 18334: 3.5, 10020080: 0.42000000000000004, 12061: 25.560000000000002, 11246: 0.83, 10016213: 3.0, 16112: 0.5, 10018079: 0.5, 1022027: 0.38, 11955: 2.12, 2014: 1.0, 2043: 0.8, 10511819: 1.5, 11959: 2.25, 19334: 3.5999999999999996, 11424: 0.63, 2025: 0.53, 99076: 0.25, 11266: 2.17, 1020: 0.31, 1032: 0.12, 1012028: 0.33999999999999997, 10211297: 0.06, 1012049: 2.58, 10151: 2.0, 19911: 2.5, 9279: 0.5, 20011: 0.25, 10012220: 0.5, 4582: 1.5, 1001116: 3.28, 1052050: 0.63, 11821: 4.95, 1041009: 1.38, 11270: 1.0, 16124: 2.83, 14209: 0.9, 9050: 0.38, 14292: 0.5, 9070: 0.13, 20132: 0.31, 35137: 0.26, 2021: 1.02, 10719335: 1.06, 1009150: 0.75, 1009152: 1.0, 1036: 0.63, 9054: 1.0, 10116098: 1.0, 9265: 2.0, 18064: 3.0, 1002035: 0.06, 1012010: 0.37, 10016049: 0.63, 93604: 1.67, 2041: 3.29, 1012047: 0.67, 1012046: 0.17, 9037: 5.04, 10111143: 1.05, 5064: 1.92, 10311297: 1.4700000000000002, 10011693: 142.92000000000002, 10016069: 0.25, 11564: 0.13, 6615: 12.25, 10511282: 0.8300000000000001, 6008: 2.42, 6147: 4.58, 10211352: 1.67, 1042027: 1.08, 10023618: 0.62, 20041: 0.66, 2007: 0.17, 16032: 0.33, 1002023: 0.17, 2042: 0.5, 11209: 1.17, 11052: 0.5, 1012038: 0.33, 93627: 0.08, 11165: 6.04, 1002014: 1.5100000000000002, 11252: 2.25, 20137: 0.5800000000000001, 6164: 1.0, 1011026: 0.8300000000000001, 16018: 16.75, 2004: 2.75, 2063: 1.59, 10316049: 0.66, 10112061: 1.04, 10011090: 2.92, 1032046: 3.21, 16056: 2.92, 9273: 0.33, 10116124: 0.33, 99186: 5.0, 9159: 4.08, 10011282: 4.42, 10011819: 14.5, 90560: 8.0, 10010225: 0.5, 98840: 0.5, 20035: 2.33, 10011268: 0.17, 11531: 122.8, 10316069: 63.38, 6599: 5.0, 1055062: 1.2599999999999998, 10111168: 53.75, 15076: 9.5, 1012044: 0.5, 1009159: 0.5, 9160: 3.25, 1022053: 1.25, 16058: 101.08, 16070: 0.42000000000000004, 20028: 0.33, 1012014: 1.6300000000000001, 2028: 1.05, 11887: 2.37, 9085: 2.0, 10020028: 0.75, 9206: 0.8300000000000001, 10012142: 0.13, 11819: 2.76, 11333: 4.390000000000001, 10099295: 1.0, 15270: 4.0, 11951: 1.0, 11352: 154.95, 99231: 0.5, 5311: 2.63, 10211216: 1.31, 23617: 0.25, 13149: 0.38, 10120499: 0.31, 11168: 4.38, 10016073: 1.88, 10016063: 1.88, 1022020: 0.88, 1052047: 0.13, 6076: 0.25, 2029: 0.88, 11583: 2.0, 2069: 8.25, 16033: 113.0, 12585: 15.0, 1026168: 2.0, 20040: 61.0, 10311529: 81.50999999999999, 10220445: 3.0, 1019: 5.21, 10115261: 0.25, 2027: 1.44, 14106: 0.44, 5114: 2.25, 16034: 1.88, 16044: 1.88, 23557: 1.0, 11298: 0.5, 10115076: 8.58, 1059195: 25.0, 15015: 258.0, 10511297: 4.0600000000000005, 10411529: 120.0, 7916: 50.0, 2048: 3.08, 4517: 1.17, 11213: 1.5, 10311215: 0.56, 10010123: 0.5, 9094: 0.25, 43212: 0.17, 11353: 1.58, 6080: 1.67, 1049: 0.33, 1056: 2.0, 11120420: 5.5, 6970: 0.31, 9433: 0.25, 11001: 0.25, 1006615: 0.5, 11112: 0.65, 11135: 0.38, 11203: 1.0, 12698: 1.0, 6194: 1.0, 98839: 0.5, 16014: 0.17, 99233: 0.5, 1001025: 1.06, 1022009: 0.3, 10019334: 0.4, 11979: 1.45, 10013149: 1.0, 1002044: 2.0, 11206: 2.25, 11941: 0.5, 10211205: 0.25, 1116: 62.5, 1002068: 0.06, 16080: 0.38, 2024: 0.25, 4584: 0.75, 1022042: 0.5, 1022068: 3.5, 1009037: 1.0, 18363: 10.0, 15036: 1.0, 23657: 0.38, 1004: 0.06, 10011885: 3.33, 43112: 2.5, 4058: 0.75, 93830: 0.25, 93749: 0.13, 6179: 0.25, 20027: 0.38, 11177: 2.5, 11980: 1.0, 2012: 0.06, 10116069: 0.42000000000000004, 10015243: 150.0, 10111251: 4.58, 43016: 1.0, 11693: 8.0, 2026: 0.5, 11492: 0.5, 10120420: 0.6, 20420: 3.0, 10010062: 2.3, 11109: 0.08, 9218: 1.0, 93640: 0.17, 99005: 0.25, 15010: 0.38, 23653: 0.5, 99288: 0.08, 11960: 1.71, 11264: 0.14, 1016008: 0.29, 10015072: 1.0, 10111080: 3.0, 11957: 0.25, 11591: 0.25, 11549: 5.5, 10023572: 0.13, 5662: 0.72, 1230: 0.5, 10862: 1.0, 12118: 0.5, 2015: 1.5, 15050: 0.25, 10016033: 0.13, 43015: 1.0, 10012061: 0.5, 6999: 1.75, 10011531: 3.63, 12098: 0.06, 16037: 0.13, 12011111: 0.13, 10011011: 0.25, 23232: 0.5, 11935: 0.67, 10020420: 0.25, 11477: 1.38, 14096: 0.31, 10111962: 0.25, 16057: 1.0, 20012: 0.5, 10211111: 0.08, 10011233: 0.67, 10011205: 0.17, 18413: 0.33, 11429: 0.17, 11114: 0.17, 1002042: 0.17, 11250: 1.0, 5027: 0.5, 11547: 0.5, 93663: 0.75, 5006: 2.5, 11304: 0.25, 15121: 1.63, 15143: 0.33, 16163: 3.5, 12135: 1.13, 2036: 0.75, 11482: 0.5, 10020444: 0.17, 98990: 0.33, 99025: 0.08, 43589: 1.0, 2049: 0.5, 11007: 0.5, 1001026: 1.5, 99024: 0.33, 93767: 1.0, 10211362: 0.75, 11020420: 83.33, 10015121: 133.33, 14134: 0.13, 2018: 0.04, 10011549: 4.33, 11220420: 0.17, 16147: 1.0, 9299: 1.0, 12120: 0.25, 1022030: 6.0, 11119: 0.25, 13346: 0.63, 14006: 0.06, 93611: 0.25, 10072: 200.0, 2001: 0.5, 2006: 0.5}\n"
     ]
    }
   ],
   "source": [
    "print(ingredients)"
   ]
  },
  {
   "cell_type": "code",
   "execution_count": null,
   "metadata": {},
   "outputs": [
    {
     "data": {
      "text/plain": [
       "-0.9"
      ]
     },
     "execution_count": 19,
     "metadata": {},
     "output_type": "execute_result"
    }
   ],
   "source": [
    "mealplan.preference_cost(preferences)"
   ]
  },
  {
   "cell_type": "code",
   "execution_count": null,
   "metadata": {},
   "outputs": [
    {
     "data": {
      "text/plain": [
       "list"
      ]
     },
     "execution_count": 20,
     "metadata": {},
     "output_type": "execute_result"
    }
   ],
   "source": [
    "type(mealplan.meals[0].nutrition)"
   ]
  },
  {
   "cell_type": "code",
   "execution_count": null,
   "metadata": {},
   "outputs": [
    {
     "name": "stdout",
     "output_type": "stream",
     "text": [
      "[]\n",
      "[]\n",
      "[]\n",
      "[]\n",
      "[]\n",
      "[]\n",
      "[]\n",
      "[]\n",
      "[]\n",
      "[]\n",
      "[]\n",
      "[]\n",
      "[]\n",
      "[]\n",
      "[]\n",
      "['middle eastern']\n",
      "[]\n",
      "[]\n",
      "[]\n",
      "['mediterranean', 'european', 'greek']\n",
      "['english', 'scottish', 'british', 'european']\n"
     ]
    }
   ],
   "source": [
    "for meal in mealplan.meals:\n",
    "    print(meal.cuisines)"
   ]
  },
  {
   "cell_type": "code",
   "execution_count": null,
   "metadata": {},
   "outputs": [
    {
     "data": {
      "text/plain": [
       "1260.7142130894858"
      ]
     },
     "execution_count": 22,
     "metadata": {},
     "output_type": "execute_result"
    }
   ],
   "source": [
    "mealplan.total_cost(preferences, ingredients2, User.dv)"
   ]
  }
 ],
 "metadata": {
  "kernelspec": {
   "display_name": "base",
   "language": "python",
   "name": "python3"
  },
  "language_info": {
   "codemirror_mode": {
    "name": "ipython",
    "version": 3
   },
   "file_extension": ".py",
   "mimetype": "text/x-python",
   "name": "python",
   "nbconvert_exporter": "python",
   "pygments_lexer": "ipython3",
   "version": "3.9.18"
  }
 },
 "nbformat": 4,
 "nbformat_minor": 2
}
